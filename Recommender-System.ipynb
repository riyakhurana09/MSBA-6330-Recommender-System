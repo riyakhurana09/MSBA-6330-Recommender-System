{
 "cells": [
  {
   "cell_type": "code",
   "execution_count": 63,
   "id": "f8ddf919",
   "metadata": {},
   "outputs": [],
   "source": [
    "import pandas as pd\n",
    "import numpy as np\n",
    "from sklearn.neighbors import NearestNeighbors"
   ]
  },
  {
   "cell_type": "markdown",
   "id": "0b2da275",
   "metadata": {},
   "source": [
    "# 1. Import data\n",
    "All of our raw data is stored in S3 bucket. In the first block, we import the readers' ratings data and book title data from S3."
   ]
  },
  {
   "cell_type": "code",
   "execution_count": 67,
   "id": "3986fefb",
   "metadata": {},
   "outputs": [],
   "source": [
    "#Read Rating Data\n",
    "df=pd.read_csv('s3://niu00056-msba6330/Final Project/BookRatings.csv',sep=';')\n",
    "#Read Book Data\n",
    "book_name=pd.read_csv('s3://niu00056-msba6330/Final Project/Books.csv',sep=';')\n",
    "book_name=book_name[['ISBN','Title']]\n",
    "book_name['ISBN']=['book_'+i for i in book_name['ISBN']]"
   ]
  },
  {
   "cell_type": "markdown",
   "id": "b21905e2",
   "metadata": {},
   "source": [
    "# 2. Tidy data into book rating format\n",
    "For our item-based recommnder system, the input needs to be in pivot format with user ID as the column names, book ID as the indexes, and the ratings as the values."
   ]
  },
  {
   "cell_type": "code",
   "execution_count": 68,
   "id": "c19d29c4",
   "metadata": {},
   "outputs": [],
   "source": [
    "# Filter users that have rated at least 3 books\n",
    "temp = df[df['Rating']!=0]\n",
    "s=temp.groupby('User-ID').Rating.count()\n",
    "unique_id = s[s >= 3].index.tolist()\n",
    "# Take a random subset of user_id\n",
    "np.random.seed(1)\n",
    "user_index = np.random.choice(unique_id, 1000, replace=False)\n",
    "df = temp[temp['User-ID'].isin(user_index)]"
   ]
  },
  {
   "cell_type": "code",
   "execution_count": 69,
   "id": "d8900a63",
   "metadata": {},
   "outputs": [],
   "source": [
    "df=df.pivot(index='ISBN',columns='User-ID',values='Rating')\n",
    "df[pd.isnull(df)]=0"
   ]
  },
  {
   "cell_type": "code",
   "execution_count": 70,
   "id": "c2b37c2e",
   "metadata": {},
   "outputs": [],
   "source": [
    "df.columns=['user_'+str(i) for i in df.columns]\n",
    "df.index=['book_'+i for i in df.index]"
   ]
  },
  {
   "cell_type": "code",
   "execution_count": 71,
   "id": "513ee681",
   "metadata": {},
   "outputs": [],
   "source": [
    "df1=df.copy()"
   ]
  },
  {
   "cell_type": "markdown",
   "id": "1dbb4d5f",
   "metadata": {},
   "source": [
    "# 3. Recommender System\n",
    "Our recommender system will be an item-based recommender using KNN as the estimator. By finding books that are similar, we could recommed books to different users based on their reading history. At the same time, we can also predict the ratings specific user would give on various books."
   ]
  },
  {
   "cell_type": "code",
   "execution_count": 78,
   "id": "db399db7",
   "metadata": {},
   "outputs": [],
   "source": [
    "#Recommended Books\n",
    "def recommend_books(user, num_recommended_books):\n",
    "  print('The list of the Books {} Has Read \\n'.format(user))\n",
    "  for m in df[df[user] > 0][user].index.tolist():\n",
    "    #Adding Book Name\n",
    "    if len(book_name[book_name['ISBN']==m]['Title'].values)==0:\n",
    "        name='Unknown'\n",
    "    else:\n",
    "        name=str(book_name[book_name['ISBN']==m]['Title'].values[0])\n",
    "    print('{} - {}'.format(m,name))\n",
    "  print('\\n')\n",
    "  recommended_books = []\n",
    "  for m in df[df[user] == 0].index.tolist():\n",
    "    index_df = df.index.tolist().index(m)\n",
    "    predicted_rating = df1.iloc[index_df, df1.columns.tolist().index(user)]\n",
    "    recommended_books.append((m, predicted_rating))\n",
    "  sorted_rm = sorted(recommended_books, key=lambda x:x[1], reverse=True)\n",
    "  print('The list of the Recommended Books \\n')\n",
    "  rank = 1\n",
    "  for recommended_book in sorted_rm[:num_recommended_books]:\n",
    "    #Adding Book Name\n",
    "    if len(book_name[book_name['ISBN']==recommended_book[0]]['Title'].values)==0:\n",
    "        name='Unknown'\n",
    "    else:\n",
    "        name=str(book_name[book_name['ISBN']==recommended_book[0]]['Title'].values[0])\n",
    "    print('{}: {} - {} - predicted rating:{}'.format(rank, recommended_book[0],name,recommended_book[1]))\n",
    "    rank = rank + 1"
   ]
  },
  {
   "cell_type": "code",
   "execution_count": 79,
   "id": "eadf9ed7",
   "metadata": {},
   "outputs": [],
   "source": [
    "#Recommeder System\n",
    "# store the original dataset in 'df', and create the copy of df, df1 = df.copy().\n",
    "def book_recommender(user, num_neighbors, num_recommendation):\n",
    "  number_neighbors = num_neighbors\n",
    "\n",
    "  knn = NearestNeighbors(metric='cosine', algorithm='brute')\n",
    "  knn.fit(df.values)\n",
    "  distances, indices = knn.kneighbors(df.values, n_neighbors=number_neighbors)\n",
    "\n",
    "  user_index = df.columns.tolist().index(user)\n",
    "\n",
    "  for m,t in list(enumerate(df.index)):\n",
    "    if df.iloc[m, user_index] == 0:\n",
    "      sim_books = indices[m].tolist()\n",
    "      book_distances = distances[m].tolist()\n",
    "    \n",
    "      if m in sim_books:\n",
    "        id_book = sim_books.index(m)\n",
    "        sim_books.remove(m)\n",
    "        book_distances.pop(id_book) \n",
    "\n",
    "      else:\n",
    "        sim_books = sim_books[:num_neighbors-1]\n",
    "        book_distances = book_distances[:num_neighbors-1]\n",
    "           \n",
    "      book_similarity = [1-x for x in book_distances]\n",
    "      book_similarity_copy = book_similarity.copy()\n",
    "      nominator = 0\n",
    "\n",
    "      for s in range(0, len(book_similarity)):\n",
    "        if df.iloc[sim_books[s], user_index] == 0:\n",
    "          if len(book_similarity_copy) == (number_neighbors - 1):\n",
    "            book_similarity_copy.pop(s)\n",
    "          \n",
    "          else:\n",
    "            book_similarity_copy.pop(s-(len(book_similarity)-len(book_similarity_copy)))\n",
    "            \n",
    "        else:\n",
    "          nominator = nominator + book_similarity[s]*df.iloc[sim_books[s],user_index]\n",
    "          \n",
    "      if len(book_similarity_copy) > 0:\n",
    "        if sum(book_similarity_copy) > 0:\n",
    "          predicted_r = nominator/sum(book_similarity_copy)\n",
    "        \n",
    "        else:\n",
    "          predicted_r = 0\n",
    "\n",
    "      else:\n",
    "        predicted_r = 0\n",
    "        \n",
    "      df1.iloc[m,user_index] = predicted_r\n",
    "  recommend_books(user, num_recommendation)"
   ]
  },
  {
   "cell_type": "markdown",
   "id": "bac15145",
   "metadata": {},
   "source": [
    "# 4. Demo"
   ]
  },
  {
   "cell_type": "code",
   "execution_count": 77,
   "id": "7c3a6165",
   "metadata": {},
   "outputs": [
    {
     "name": "stdout",
     "output_type": "stream",
     "text": [
      "The list of the Books user_243 Has Read \n",
      "\n",
      "book_0060915544 - The Bean Trees\n",
      "book_0060977493 - The God of Small Things\n",
      "book_0140272100 - Vanished\n",
      "book_0316601950 - The Pilot's Wife : A Novel\n",
      "book_0316776963 - Me Talk Pretty One Day\n",
      "book_0316899984 - River, Cross My Heart\n",
      "book_0375400117 - Memoirs of a Geisha\n",
      "book_0385316895 - Legacy of Silence\n",
      "book_0385720106 - A Map of the World\n",
      "book_0425163407 - Unnatural Exposure\n",
      "book_044023722X - A Painted House\n",
      "book_0446364800 - The General's Daughter\n",
      "book_0446606383 - The Midnight Club\n",
      "book_0449006522 - Manhattan Hunt Club\n",
      "book_0553580388 - The Patient\n",
      "book_0786863986 - A Monk Swimming\n",
      "book_0803251718 - Crazy Horse\n",
      "book_155874262X - Chicken Soup for the Soul (Chicken Soup for the Soul)\n",
      "\n",
      "\n",
      "The list of the Recommended Books \n",
      "\n",
      "1: book_038097438X - Paradise Fever: Growing Up in the Shadow of the New Age - predicted rating:10.0\n",
      "2: book_0452281784 - Bad Heir Day - predicted rating:10.0\n",
      "3: book_0670889202 - Penny Dreadful - predicted rating:10.0\n",
      "4: book_006092411X - The Living : A Novel - predicted rating:9.0\n",
      "5: book_1573227374 - Missing Women and Others - predicted rating:9.0\n"
     ]
    }
   ],
   "source": [
    "book_recommender('user_243',5,5)"
   ]
  }
 ],
 "metadata": {
  "kernelspec": {
   "display_name": "conda_python3",
   "language": "python",
   "name": "conda_python3"
  },
  "language_info": {
   "codemirror_mode": {
    "name": "ipython",
    "version": 3
   },
   "file_extension": ".py",
   "mimetype": "text/x-python",
   "name": "python",
   "nbconvert_exporter": "python",
   "pygments_lexer": "ipython3",
   "version": "3.6.13"
  }
 },
 "nbformat": 4,
 "nbformat_minor": 5
}
